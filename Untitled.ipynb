{
 "cells": [
  {
   "cell_type": "code",
   "execution_count": 1,
   "id": "d1355d79",
   "metadata": {},
   "outputs": [
    {
     "name": "stderr",
     "output_type": "stream",
     "text": [
      "Cloning into 'models'...\n",
      "Updating files:  11% (372/3359)\n",
      "Updating files:  12% (404/3359)\n",
      "Updating files:  13% (437/3359)\n",
      "Updating files:  14% (471/3359)\n",
      "Updating files:  15% (504/3359)\n",
      "Updating files:  16% (538/3359)\n",
      "Updating files:  17% (572/3359)\n",
      "Updating files:  18% (605/3359)\n",
      "Updating files:  19% (639/3359)\n",
      "Updating files:  19% (669/3359)\n",
      "Updating files:  20% (672/3359)\n",
      "Updating files:  21% (706/3359)\n",
      "Updating files:  21% (733/3359)\n",
      "Updating files:  22% (739/3359)\n",
      "Updating files:  23% (773/3359)\n",
      "Updating files:  24% (807/3359)\n",
      "Updating files:  25% (840/3359)\n",
      "Updating files:  26% (874/3359)\n",
      "Updating files:  27% (907/3359)\n",
      "Updating files:  28% (941/3359)\n",
      "Updating files:  29% (975/3359)\n",
      "Updating files:  30% (1008/3359)\n",
      "Updating files:  30% (1022/3359)\n",
      "Updating files:  31% (1042/3359)\n",
      "Updating files:  32% (1075/3359)\n",
      "Updating files:  33% (1109/3359)\n",
      "Updating files:  34% (1143/3359)\n",
      "Updating files:  35% (1176/3359)\n",
      "Updating files:  36% (1210/3359)\n",
      "Updating files:  36% (1231/3359)\n",
      "Updating files:  37% (1243/3359)\n",
      "Updating files:  38% (1277/3359)\n",
      "Updating files:  39% (1311/3359)\n",
      "Updating files:  40% (1344/3359)\n",
      "Updating files:  40% (1367/3359)\n",
      "Updating files:  41% (1378/3359)\n",
      "Updating files:  42% (1411/3359)\n",
      "Updating files:  43% (1445/3359)\n",
      "Updating files:  44% (1478/3359)\n",
      "Updating files:  44% (1484/3359)\n",
      "Updating files:  45% (1512/3359)\n",
      "Updating files:  45% (1514/3359)\n",
      "Updating files:  45% (1519/3359)\n",
      "Updating files:  46% (1546/3359)\n",
      "Updating files:  46% (1556/3359)\n",
      "Updating files:  47% (1579/3359)\n",
      "Updating files:  48% (1613/3359)\n",
      "Updating files:  49% (1646/3359)\n",
      "Updating files:  50% (1680/3359)\n",
      "Updating files:  50% (1701/3359)\n",
      "Updating files:  51% (1714/3359)\n",
      "Updating files:  52% (1747/3359)\n",
      "Updating files:  53% (1781/3359)\n",
      "Updating files:  53% (1790/3359)\n",
      "Updating files:  54% (1814/3359)\n",
      "Updating files:  55% (1848/3359)\n",
      "Updating files:  56% (1882/3359)\n",
      "Updating files:  56% (1904/3359)\n",
      "Updating files:  57% (1915/3359)\n",
      "Updating files:  58% (1949/3359)\n",
      "Updating files:  59% (1982/3359)\n",
      "Updating files:  60% (2016/3359)\n",
      "Updating files:  60% (2029/3359)\n",
      "Updating files:  61% (2049/3359)\n",
      "Updating files:  62% (2083/3359)\n",
      "Updating files:  63% (2117/3359)\n",
      "Updating files:  64% (2150/3359)\n",
      "Updating files:  64% (2183/3359)\n",
      "Updating files:  65% (2184/3359)\n",
      "Updating files:  66% (2217/3359)\n",
      "Updating files:  67% (2251/3359)\n",
      "Updating files:  68% (2285/3359)\n",
      "Updating files:  68% (2295/3359)\n",
      "Updating files:  69% (2318/3359)\n",
      "Updating files:  70% (2352/3359)\n",
      "Updating files:  71% (2385/3359)\n",
      "Updating files:  72% (2419/3359)\n",
      "Updating files:  72% (2449/3359)\n",
      "Updating files:  73% (2453/3359)\n",
      "Updating files:  74% (2486/3359)\n",
      "Updating files:  75% (2520/3359)\n",
      "Updating files:  76% (2553/3359)\n",
      "Updating files:  76% (2559/3359)\n",
      "Updating files:  77% (2587/3359)\n",
      "Updating files:  77% (2593/3359)\n",
      "Updating files:  77% (2613/3359)\n",
      "Updating files:  78% (2621/3359)\n",
      "Updating files:  79% (2654/3359)\n",
      "Updating files:  80% (2688/3359)\n",
      "Updating files:  80% (2700/3359)\n",
      "Updating files:  81% (2721/3359)\n",
      "Updating files:  82% (2755/3359)\n",
      "Updating files:  83% (2788/3359)\n",
      "Updating files:  83% (2803/3359)\n",
      "Updating files:  84% (2822/3359)\n",
      "Updating files:  85% (2856/3359)\n",
      "Updating files:  86% (2889/3359)\n",
      "Updating files:  87% (2923/3359)\n",
      "Updating files:  88% (2956/3359)\n",
      "Updating files:  88% (2960/3359)\n",
      "Updating files:  88% (2985/3359)\n",
      "Updating files:  89% (2990/3359)\n",
      "Updating files:  90% (3024/3359)\n",
      "Updating files:  90% (3052/3359)\n",
      "Updating files:  91% (3057/3359)\n",
      "Updating files:  92% (3091/3359)\n",
      "Updating files:  92% (3120/3359)\n",
      "Updating files:  93% (3124/3359)\n",
      "Updating files:  93% (3128/3359)\n",
      "Updating files:  94% (3158/3359)\n",
      "Updating files:  95% (3192/3359)\n",
      "Updating files:  96% (3225/3359)\n",
      "Updating files:  97% (3259/3359)\n",
      "Updating files:  97% (3260/3359)\n",
      "Updating files:  98% (3292/3359)\n",
      "Updating files:  99% (3326/3359)\n",
      "Updating files: 100% (3359/3359)\n",
      "Updating files: 100% (3359/3359), done.\n"
     ]
    }
   ],
   "source": [
    "import os\n",
    "import pathlib\n",
    "\n",
    "if \"models\" in pathlib.Path.cwd().parts:\n",
    "  while \"models\" in pathlib.Path.cwd().parts:\n",
    "    os.chdir('..')\n",
    "elif not pathlib.Path('models').exists():\n",
    "  !git clone --depth 1 https://github.com/tensorflow/models"
   ]
  },
  {
   "cell_type": "code",
   "execution_count": 30,
   "id": "78e62a69",
   "metadata": {},
   "outputs": [
    {
     "name": "stderr",
     "output_type": "stream",
     "text": [
      "'C:\\Users\\reetu' is not recognized as an internal or external command,\n",
      "operable program or batch file.\n"
     ]
    }
   ],
   "source": [
    "!C:\\Users\\reetu raj harsh\\models\\research\\\n",
    "!protoc object_detection/protos/*.proto --python_out=."
   ]
  },
  {
   "cell_type": "code",
   "execution_count": 23,
   "id": "b8b58192",
   "metadata": {},
   "outputs": [],
   "source": [
    "!cd models/research"
   ]
  },
  {
   "cell_type": "code",
   "execution_count": 6,
   "id": "9e3503d1",
   "metadata": {},
   "outputs": [],
   "source": [
    "import numpy as np\n",
    "import os\n",
    "import six.moves.urllib as urllib\n",
    "import sys\n",
    "import tarfile\n",
    "import tensorflow as tf\n",
    "import zipfile\n",
    "\n",
    "from collections import defaultdict\n",
    "from io import StringIO\n",
    "from matplotlib import pyplot as plt\n",
    "from PIL import Image\n",
    "from IPython.display import display"
   ]
  },
  {
   "cell_type": "code",
   "execution_count": 25,
   "id": "d593c5ac",
   "metadata": {},
   "outputs": [
    {
     "ename": "ModuleNotFoundError",
     "evalue": "No module named 'object_detection'",
     "output_type": "error",
     "traceback": [
      "\u001b[1;31m---------------------------------------------------------------------------\u001b[0m",
      "\u001b[1;31mModuleNotFoundError\u001b[0m                       Traceback (most recent call last)",
      "Input \u001b[1;32mIn [25]\u001b[0m, in \u001b[0;36m<cell line: 1>\u001b[1;34m()\u001b[0m\n\u001b[1;32m----> 1\u001b[0m \u001b[38;5;28;01mfrom\u001b[39;00m \u001b[38;5;21;01mobject_detection\u001b[39;00m\u001b[38;5;21;01m.\u001b[39;00m\u001b[38;5;21;01mutils\u001b[39;00m \u001b[38;5;28;01mimport\u001b[39;00m ops \u001b[38;5;28;01mas\u001b[39;00m utils_ops\n\u001b[0;32m      2\u001b[0m \u001b[38;5;28;01mfrom\u001b[39;00m \u001b[38;5;21;01mobject_detection\u001b[39;00m\u001b[38;5;21;01m.\u001b[39;00m\u001b[38;5;21;01mutils\u001b[39;00m \u001b[38;5;28;01mimport\u001b[39;00m label_map_util\n\u001b[0;32m      3\u001b[0m \u001b[38;5;28;01mfrom\u001b[39;00m \u001b[38;5;21;01mobject_detection\u001b[39;00m\u001b[38;5;21;01m.\u001b[39;00m\u001b[38;5;21;01mutils\u001b[39;00m \u001b[38;5;28;01mimport\u001b[39;00m visualization_utils \u001b[38;5;28;01mas\u001b[39;00m vis_util\n",
      "\u001b[1;31mModuleNotFoundError\u001b[0m: No module named 'object_detection'"
     ]
    }
   ],
   "source": [
    "from object_detection.utils import ops as utils_ops\n",
    "from object_detection.utils import label_map_util\n",
    "from object_detection.utils import visualization_utils as vis_util"
   ]
  },
  {
   "cell_type": "code",
   "execution_count": null,
   "id": "17a3ba8a",
   "metadata": {},
   "outputs": [],
   "source": []
  },
  {
   "cell_type": "code",
   "execution_count": null,
   "id": "1e01c492",
   "metadata": {},
   "outputs": [],
   "source": []
  }
 ],
 "metadata": {
  "kernelspec": {
   "display_name": "Python 3 (ipykernel)",
   "language": "python",
   "name": "python3"
  },
  "language_info": {
   "codemirror_mode": {
    "name": "ipython",
    "version": 3
   },
   "file_extension": ".py",
   "mimetype": "text/x-python",
   "name": "python",
   "nbconvert_exporter": "python",
   "pygments_lexer": "ipython3",
   "version": "3.9.12"
  }
 },
 "nbformat": 4,
 "nbformat_minor": 5
}
